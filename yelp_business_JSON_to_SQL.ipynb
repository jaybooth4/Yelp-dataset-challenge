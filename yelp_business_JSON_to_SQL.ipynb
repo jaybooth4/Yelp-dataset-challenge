{
 "cells": [
  {
   "cell_type": "code",
   "execution_count": 1,
   "metadata": {
    "collapsed": true
   },
   "outputs": [],
   "source": [
    "import json # To parse json files\n",
    "from pprint import pprint # To print json data\n",
    "import sqlite3 # For sql database"
   ]
  },
  {
   "cell_type": "code",
   "execution_count": null,
   "metadata": {
    "collapsed": true
   },
   "outputs": [],
   "source": []
  },
  {
   "cell_type": "code",
   "execution_count": 2,
   "metadata": {
    "collapsed": true
   },
   "outputs": [],
   "source": [
    "# Configure this for your local path\n",
    "dirpath = 'C:\\\\Users\\\\Jason\\\\Desktop\\\\Yelp\\\\'\n",
    "file = 'yelp_academic_dataset_business.json'\n",
    "filepath = dirpath + file"
   ]
  },
  {
   "cell_type": "code",
   "execution_count": 3,
   "metadata": {
    "collapsed": true
   },
   "outputs": [],
   "source": [
    "# Connect to SQL server\n",
    "connection = sqlite3.connect(\"yelp.db\")\n",
    "cursor = connection.cursor()"
   ]
  },
  {
   "cell_type": "code",
   "execution_count": 4,
   "metadata": {
    "collapsed": false
   },
   "outputs": [
    {
     "ename": "OperationalError",
     "evalue": "table business already exists",
     "output_type": "error",
     "traceback": [
      "\u001b[0;31m---------------------------------------------------------------------------\u001b[0m",
      "\u001b[0;31mOperationalError\u001b[0m                          Traceback (most recent call last)",
      "\u001b[0;32m<ipython-input-4-af34f6df4d39>\u001b[0m in \u001b[0;36m<module>\u001b[0;34m()\u001b[0m\n\u001b[1;32m     13\u001b[0m                        \u001b[0mstate\u001b[0m \u001b[0mVARCHAR\u001b[0m\u001b[1;33m(\u001b[0m\u001b[1;36m2\u001b[0m\u001b[1;33m)\u001b[0m\u001b[1;33m,\u001b[0m\u001b[1;33m\u001b[0m\u001b[0m\n\u001b[1;32m     14\u001b[0m                        type VARCHAR(15));\"\"\"\n\u001b[0;32m---> 15\u001b[0;31m \u001b[0mcursor\u001b[0m\u001b[1;33m.\u001b[0m\u001b[0mexecute\u001b[0m\u001b[1;33m(\u001b[0m\u001b[0msql_command_init\u001b[0m\u001b[1;33m)\u001b[0m\u001b[1;33m\u001b[0m\u001b[0m\n\u001b[0m",
      "\u001b[0;31mOperationalError\u001b[0m: table business already exists"
     ]
    }
   ],
   "source": [
    "# Create the SQL database\n",
    "sql_command_init = \"\"\"CREATE TABLE business (address VARCHAR(35),\n",
    "                       business_id VARCHAR(30) ,\n",
    "                       city VARCHAR(15),\n",
    "                       is_open BOOLEAN,\n",
    "                       latitude FLOAT,\n",
    "                       longitude FLOAT,\n",
    "                       name VARCHAR(25),\n",
    "                       neighborhood VARCHAR(25),\n",
    "                       postal_code INTEGER,\n",
    "                       review_count INTEGER,\n",
    "                       stars FLOAT,\n",
    "                       state VARCHAR(2),\n",
    "                       type VARCHAR(15));\"\"\"\n",
    "cursor.execute(sql_command_init)"
   ]
  },
  {
   "cell_type": "code",
   "execution_count": null,
   "metadata": {
    "collapsed": true
   },
   "outputs": [],
   "source": [
    "# Command used to insert into the database\n",
    "sql_command_insert = \"\"\"INSERT INTO business (address, \n",
    "                                        business_id, \n",
    "                                        city, \n",
    "                                        is_open, \n",
    "                                        latitude, \n",
    "                                        longitude, \n",
    "                                        name,\n",
    "                                        neighborhood,\n",
    "                                        postal_code,\n",
    "                                        review_count,\n",
    "                                        stars,\n",
    "                                        state, \n",
    "                                        type) \n",
    "                                        VALUES (\"{add}\", \n",
    "                                        \"{bid}\", \n",
    "                                        \"{city}\", \n",
    "                                        {iopen}, \n",
    "                                        {lat}, \n",
    "                                        {long}, \n",
    "                                        \"{name}\", \n",
    "                                        \"{neigh}\", \n",
    "                                        \"{post}\",\n",
    "                                        {rev},\n",
    "                                        {star},\n",
    "                                        \"{sta}\",\n",
    "                                        \"{Btype}\");\"\"\""
   ]
  },
  {
   "cell_type": "code",
   "execution_count": null,
   "metadata": {
    "collapsed": false
   },
   "outputs": [],
   "source": [
    "# Open and read file into database\n",
    "with open(filepath, encoding=\"utf8\") as f:\n",
    "    data = f.readlines()\n",
    "    i = 0\n",
    "    for line in data:\n",
    "        dataPoint = json.loads(line)\n",
    "        pprint(dataPoint)\n",
    "        sql_command_insert_line = sql_command_insert.format(add = dataPoint['address'], \n",
    "                                  bid = dataPoint['business_id'], \n",
    "                                  city = dataPoint['city'], \n",
    "                                  iopen = int(dataPoint['is_open']), \n",
    "                                  lat = dataPoint['latitude'], \n",
    "                                  long = dataPoint['longitude'], \n",
    "                                  name = dataPoint['name'],\n",
    "                                  neigh = dataPoint['neighborhood'],\n",
    "                                  post = dataPoint['postal_code'],\n",
    "                                  rev = int(dataPoint['review_count']),\n",
    "                                  star = float(dataPoint['stars']), \n",
    "                                  sta = dataPoint['state'], \n",
    "                                  Btype = dataPoint['type'])\n",
    "        #print(sql_command_insert_line)\n",
    "        cursor.execute(sql_command_insert_line)\n",
    "        i+=1\n",
    "        if i>10:\n",
    "            break"
   ]
  },
  {
   "cell_type": "code",
   "execution_count": null,
   "metadata": {
    "collapsed": false
   },
   "outputs": [],
   "source": [
    "# Check the format and size of the categories data\n",
    "with open(filepath, encoding=\"utf8\") as f:\n",
    "    data = f.readlines()\n",
    "    i = 0\n",
    "    for line in data:\n",
    "        dataPoint = json.loads(line)\n",
    "        cat += dataPoint['categories']\n",
    "        i+=1\n",
    "        if i>300:\n",
    "            break\n",
    "print(cat)"
   ]
  },
  {
   "cell_type": "code",
   "execution_count": null,
   "metadata": {
    "collapsed": false
   },
   "outputs": [],
   "source": [
    "# Check the format and size of the attributes data (It is a list)\n",
    "with open(filepath, encoding=\"utf8\") as f:\n",
    "    data = f.readlines()\n",
    "    i = 0\n",
    "    for line in data:\n",
    "        dataPoint = json.loads(line)\n",
    "        if dataPoint['attributes'] != None:\n",
    "            attribs += (dataPoint['attributes'])\n",
    "        i+=1\n",
    "        if i>300:\n",
    "            break\n",
    "print(attribs)"
   ]
  },
  {
   "cell_type": "code",
   "execution_count": null,
   "metadata": {
    "collapsed": false
   },
   "outputs": [],
   "source": [
    "# Test SQL call to check functionality\n",
    "cursor.execute(\"SELECT * FROM business\") \n",
    "print('''Result of \"SELECT * FROM business\":''')\n",
    "result = cursor.fetchall() \n",
    "for r in result:\n",
    "    print(r)"
   ]
  },
  {
   "cell_type": "code",
   "execution_count": null,
   "metadata": {
    "collapsed": true
   },
   "outputs": [],
   "source": [
    "# Commit changes\n",
    "connection.commit()\n",
    "connection.close()"
   ]
  },
  {
   "cell_type": "code",
   "execution_count": null,
   "metadata": {
    "collapsed": true
   },
   "outputs": [],
   "source": []
  },
  {
   "cell_type": "code",
   "execution_count": null,
   "metadata": {
    "collapsed": true
   },
   "outputs": [],
   "source": []
  },
  {
   "cell_type": "code",
   "execution_count": null,
   "metadata": {
    "collapsed": true
   },
   "outputs": [],
   "source": []
  },
  {
   "cell_type": "code",
   "execution_count": null,
   "metadata": {
    "collapsed": true
   },
   "outputs": [],
   "source": []
  }
 ],
 "metadata": {
  "kernelspec": {
   "display_name": "Python 3",
   "language": "python",
   "name": "python3"
  },
  "language_info": {
   "codemirror_mode": {
    "name": "ipython",
    "version": 3
   },
   "file_extension": ".py",
   "mimetype": "text/x-python",
   "name": "python",
   "nbconvert_exporter": "python",
   "pygments_lexer": "ipython3",
   "version": "3.6.0"
  }
 },
 "nbformat": 4,
 "nbformat_minor": 2
}
